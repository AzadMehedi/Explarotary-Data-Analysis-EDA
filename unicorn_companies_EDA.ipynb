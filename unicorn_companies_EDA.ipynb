{
  "nbformat": 4,
  "nbformat_minor": 0,
  "metadata": {
    "colab": {
      "provenance": [],
      "authorship_tag": "ABX9TyPNAGY/hhtNTPxqPhwKk5JP",
      "include_colab_link": true
    },
    "kernelspec": {
      "name": "python3",
      "display_name": "Python 3"
    },
    "language_info": {
      "name": "python"
    }
  },
  "cells": [
    {
      "cell_type": "markdown",
      "metadata": {
        "id": "view-in-github",
        "colab_type": "text"
      },
      "source": [
        "<a href=\"https://colab.research.google.com/github/AzadMehedi/Explarotary-Data-Analysis-EDA/blob/main/unicorn_companies_EDA.ipynb\" target=\"_parent\"><img src=\"https://colab.research.google.com/assets/colab-badge.svg\" alt=\"Open In Colab\"/></a>"
      ]
    },
    {
      "cell_type": "code",
      "execution_count": 2,
      "metadata": {
        "id": "gH0AT84pKkUw"
      },
      "outputs": [],
      "source": [
        "import pandas as pd\n",
        "import numpy as np\n",
        "import matplotlib.pyplot as plt\n",
        "import seaborn as sns\n",
        "import warnings\n",
        "warnings.filterwarnings('ignore')"
      ]
    },
    {
      "cell_type": "code",
      "source": [
        "df = pd.read_csv('/content/Unicorn_Companies.csv')\n",
        "df.head()"
      ],
      "metadata": {
        "colab": {
          "base_uri": "https://localhost:8080/",
          "height": 441
        },
        "id": "3q6NYLF1K4wH",
        "outputId": "27cf21dc-a307-4ecb-b4c7-befd7d3cb86c"
      },
      "execution_count": 3,
      "outputs": [
        {
          "output_type": "execute_result",
          "data": {
            "text/plain": [
              "      Company Valuation ($B) Date Joined        Country           City  \\\n",
              "0   Bytedance           $140    4/7/2017          China        Beijing   \n",
              "1      SpaceX         $100.3   12/1/2012  United States      Hawthorne   \n",
              "2      Stripe            $95   1/23/2014  United States  San Francisco   \n",
              "3      Klarna          $45.6  12/12/2011         Sweden      Stockholm   \n",
              "4  Epic Games            $42  10/26/2018  United States           Cary   \n",
              "\n",
              "                  Industry                                  Select Inverstors  \\\n",
              "0  Artificial intelligence  Sequoia Capital China, SIG Asia Investments, S...   \n",
              "1                    Other  Founders Fund, Draper Fisher Jurvetson, Rothen...   \n",
              "2                  Fintech        Khosla Ventures, LowercaseCapital, capitalG   \n",
              "3                  Fintech  Institutional Venture Partners, Sequoia Capita...   \n",
              "4                    Other              Tencent Holdings, KKR, Smash Ventures   \n",
              "\n",
              "  Founded Year Total Raised Financial Stage Investors Count Deal Terms  \\\n",
              "0         2012       $7.44B             IPO              28          8   \n",
              "1         2002      $6.874B            None              29         12   \n",
              "2         2010      $2.901B           Asset              39         12   \n",
              "3         2005      $3.472B        Acquired              56         13   \n",
              "4         1991      $4.377B        Acquired              25          5   \n",
              "\n",
              "  Portfolio Exits  \n",
              "0               5  \n",
              "1            None  \n",
              "2               1  \n",
              "3               1  \n",
              "4               2  "
            ],
            "text/html": [
              "\n",
              "  <div id=\"df-b2c1153a-07f8-4475-9dc1-24f24d4ebccd\">\n",
              "    <div class=\"colab-df-container\">\n",
              "      <div>\n",
              "<style scoped>\n",
              "    .dataframe tbody tr th:only-of-type {\n",
              "        vertical-align: middle;\n",
              "    }\n",
              "\n",
              "    .dataframe tbody tr th {\n",
              "        vertical-align: top;\n",
              "    }\n",
              "\n",
              "    .dataframe thead th {\n",
              "        text-align: right;\n",
              "    }\n",
              "</style>\n",
              "<table border=\"1\" class=\"dataframe\">\n",
              "  <thead>\n",
              "    <tr style=\"text-align: right;\">\n",
              "      <th></th>\n",
              "      <th>Company</th>\n",
              "      <th>Valuation ($B)</th>\n",
              "      <th>Date Joined</th>\n",
              "      <th>Country</th>\n",
              "      <th>City</th>\n",
              "      <th>Industry</th>\n",
              "      <th>Select Inverstors</th>\n",
              "      <th>Founded Year</th>\n",
              "      <th>Total Raised</th>\n",
              "      <th>Financial Stage</th>\n",
              "      <th>Investors Count</th>\n",
              "      <th>Deal Terms</th>\n",
              "      <th>Portfolio Exits</th>\n",
              "    </tr>\n",
              "  </thead>\n",
              "  <tbody>\n",
              "    <tr>\n",
              "      <th>0</th>\n",
              "      <td>Bytedance</td>\n",
              "      <td>$140</td>\n",
              "      <td>4/7/2017</td>\n",
              "      <td>China</td>\n",
              "      <td>Beijing</td>\n",
              "      <td>Artificial intelligence</td>\n",
              "      <td>Sequoia Capital China, SIG Asia Investments, S...</td>\n",
              "      <td>2012</td>\n",
              "      <td>$7.44B</td>\n",
              "      <td>IPO</td>\n",
              "      <td>28</td>\n",
              "      <td>8</td>\n",
              "      <td>5</td>\n",
              "    </tr>\n",
              "    <tr>\n",
              "      <th>1</th>\n",
              "      <td>SpaceX</td>\n",
              "      <td>$100.3</td>\n",
              "      <td>12/1/2012</td>\n",
              "      <td>United States</td>\n",
              "      <td>Hawthorne</td>\n",
              "      <td>Other</td>\n",
              "      <td>Founders Fund, Draper Fisher Jurvetson, Rothen...</td>\n",
              "      <td>2002</td>\n",
              "      <td>$6.874B</td>\n",
              "      <td>None</td>\n",
              "      <td>29</td>\n",
              "      <td>12</td>\n",
              "      <td>None</td>\n",
              "    </tr>\n",
              "    <tr>\n",
              "      <th>2</th>\n",
              "      <td>Stripe</td>\n",
              "      <td>$95</td>\n",
              "      <td>1/23/2014</td>\n",
              "      <td>United States</td>\n",
              "      <td>San Francisco</td>\n",
              "      <td>Fintech</td>\n",
              "      <td>Khosla Ventures, LowercaseCapital, capitalG</td>\n",
              "      <td>2010</td>\n",
              "      <td>$2.901B</td>\n",
              "      <td>Asset</td>\n",
              "      <td>39</td>\n",
              "      <td>12</td>\n",
              "      <td>1</td>\n",
              "    </tr>\n",
              "    <tr>\n",
              "      <th>3</th>\n",
              "      <td>Klarna</td>\n",
              "      <td>$45.6</td>\n",
              "      <td>12/12/2011</td>\n",
              "      <td>Sweden</td>\n",
              "      <td>Stockholm</td>\n",
              "      <td>Fintech</td>\n",
              "      <td>Institutional Venture Partners, Sequoia Capita...</td>\n",
              "      <td>2005</td>\n",
              "      <td>$3.472B</td>\n",
              "      <td>Acquired</td>\n",
              "      <td>56</td>\n",
              "      <td>13</td>\n",
              "      <td>1</td>\n",
              "    </tr>\n",
              "    <tr>\n",
              "      <th>4</th>\n",
              "      <td>Epic Games</td>\n",
              "      <td>$42</td>\n",
              "      <td>10/26/2018</td>\n",
              "      <td>United States</td>\n",
              "      <td>Cary</td>\n",
              "      <td>Other</td>\n",
              "      <td>Tencent Holdings, KKR, Smash Ventures</td>\n",
              "      <td>1991</td>\n",
              "      <td>$4.377B</td>\n",
              "      <td>Acquired</td>\n",
              "      <td>25</td>\n",
              "      <td>5</td>\n",
              "      <td>2</td>\n",
              "    </tr>\n",
              "  </tbody>\n",
              "</table>\n",
              "</div>\n",
              "      <button class=\"colab-df-convert\" onclick=\"convertToInteractive('df-b2c1153a-07f8-4475-9dc1-24f24d4ebccd')\"\n",
              "              title=\"Convert this dataframe to an interactive table.\"\n",
              "              style=\"display:none;\">\n",
              "        \n",
              "  <svg xmlns=\"http://www.w3.org/2000/svg\" height=\"24px\"viewBox=\"0 0 24 24\"\n",
              "       width=\"24px\">\n",
              "    <path d=\"M0 0h24v24H0V0z\" fill=\"none\"/>\n",
              "    <path d=\"M18.56 5.44l.94 2.06.94-2.06 2.06-.94-2.06-.94-.94-2.06-.94 2.06-2.06.94zm-11 1L8.5 8.5l.94-2.06 2.06-.94-2.06-.94L8.5 2.5l-.94 2.06-2.06.94zm10 10l.94 2.06.94-2.06 2.06-.94-2.06-.94-.94-2.06-.94 2.06-2.06.94z\"/><path d=\"M17.41 7.96l-1.37-1.37c-.4-.4-.92-.59-1.43-.59-.52 0-1.04.2-1.43.59L10.3 9.45l-7.72 7.72c-.78.78-.78 2.05 0 2.83L4 21.41c.39.39.9.59 1.41.59.51 0 1.02-.2 1.41-.59l7.78-7.78 2.81-2.81c.8-.78.8-2.07 0-2.86zM5.41 20L4 18.59l7.72-7.72 1.47 1.35L5.41 20z\"/>\n",
              "  </svg>\n",
              "      </button>\n",
              "      \n",
              "  <style>\n",
              "    .colab-df-container {\n",
              "      display:flex;\n",
              "      flex-wrap:wrap;\n",
              "      gap: 12px;\n",
              "    }\n",
              "\n",
              "    .colab-df-convert {\n",
              "      background-color: #E8F0FE;\n",
              "      border: none;\n",
              "      border-radius: 50%;\n",
              "      cursor: pointer;\n",
              "      display: none;\n",
              "      fill: #1967D2;\n",
              "      height: 32px;\n",
              "      padding: 0 0 0 0;\n",
              "      width: 32px;\n",
              "    }\n",
              "\n",
              "    .colab-df-convert:hover {\n",
              "      background-color: #E2EBFA;\n",
              "      box-shadow: 0px 1px 2px rgba(60, 64, 67, 0.3), 0px 1px 3px 1px rgba(60, 64, 67, 0.15);\n",
              "      fill: #174EA6;\n",
              "    }\n",
              "\n",
              "    [theme=dark] .colab-df-convert {\n",
              "      background-color: #3B4455;\n",
              "      fill: #D2E3FC;\n",
              "    }\n",
              "\n",
              "    [theme=dark] .colab-df-convert:hover {\n",
              "      background-color: #434B5C;\n",
              "      box-shadow: 0px 1px 3px 1px rgba(0, 0, 0, 0.15);\n",
              "      filter: drop-shadow(0px 1px 2px rgba(0, 0, 0, 0.3));\n",
              "      fill: #FFFFFF;\n",
              "    }\n",
              "  </style>\n",
              "\n",
              "      <script>\n",
              "        const buttonEl =\n",
              "          document.querySelector('#df-b2c1153a-07f8-4475-9dc1-24f24d4ebccd button.colab-df-convert');\n",
              "        buttonEl.style.display =\n",
              "          google.colab.kernel.accessAllowed ? 'block' : 'none';\n",
              "\n",
              "        async function convertToInteractive(key) {\n",
              "          const element = document.querySelector('#df-b2c1153a-07f8-4475-9dc1-24f24d4ebccd');\n",
              "          const dataTable =\n",
              "            await google.colab.kernel.invokeFunction('convertToInteractive',\n",
              "                                                     [key], {});\n",
              "          if (!dataTable) return;\n",
              "\n",
              "          const docLinkHtml = 'Like what you see? Visit the ' +\n",
              "            '<a target=\"_blank\" href=https://colab.research.google.com/notebooks/data_table.ipynb>data table notebook</a>'\n",
              "            + ' to learn more about interactive tables.';\n",
              "          element.innerHTML = '';\n",
              "          dataTable['output_type'] = 'display_data';\n",
              "          await google.colab.output.renderOutput(dataTable, element);\n",
              "          const docLink = document.createElement('div');\n",
              "          docLink.innerHTML = docLinkHtml;\n",
              "          element.appendChild(docLink);\n",
              "        }\n",
              "      </script>\n",
              "    </div>\n",
              "  </div>\n",
              "  "
            ]
          },
          "metadata": {},
          "execution_count": 3
        }
      ]
    },
    {
      "cell_type": "code",
      "source": [
        "df.tail()"
      ],
      "metadata": {
        "colab": {
          "base_uri": "https://localhost:8080/",
          "height": 528
        },
        "id": "OmgBW0EHLNom",
        "outputId": "a04628db-b2b7-4e8f-bd0e-1e9aa5067006"
      },
      "execution_count": 4,
      "outputs": [
        {
          "output_type": "execute_result",
          "data": {
            "text/plain": [
              "           Company Valuation ($B) Date Joined        Country           City  \\\n",
              "1032     Timescale             $1   2/22/2022  United States       New York   \n",
              "1033      Scalapay             $1   2/23/2022          Italy          Milan   \n",
              "1034  Omada Health             $1   2/23/2022  United States  San Francisco   \n",
              "1035    BlueVoyant             $1   2/23/2022  United States       New York   \n",
              "1036          Veev             $1   2/24/2022  United States      San Mateo   \n",
              "\n",
              "                          Industry  \\\n",
              "1032  Internet software & services   \n",
              "1033                       Fintech   \n",
              "1034                        Health   \n",
              "1035                 Cybersecurity   \n",
              "1036  Internet software & services   \n",
              "\n",
              "                                      Select Inverstors Founded Year  \\\n",
              "1032  New Enterprise Associates, Benchmark, Two Sigm...         2015   \n",
              "1033  Fasanara Capital, Tiger Global Management, Bal...         2019   \n",
              "1034  U.S. Venture Partners, dRx Capital, Andreessen...         2011   \n",
              "1035  8VC, Liberty Strategic Capital, Eden Global Pa...         2017   \n",
              "1036           Zeev Ventures, Bond, Fifth Wall Ventures         2008   \n",
              "\n",
              "     Total Raised Financial Stage Investors Count Deal Terms Portfolio Exits  \n",
              "1032     $181.06M            None               7          2            None  \n",
              "1033        $700M            None              10          2            None  \n",
              "1034     $449.72M            None              30          6            None  \n",
              "1035      $525.5M            None               6          2            None  \n",
              "1036      $604.5M            None              11          1            None  "
            ],
            "text/html": [
              "\n",
              "  <div id=\"df-9e83160d-9d79-48f3-a4c3-8a607d9efc46\">\n",
              "    <div class=\"colab-df-container\">\n",
              "      <div>\n",
              "<style scoped>\n",
              "    .dataframe tbody tr th:only-of-type {\n",
              "        vertical-align: middle;\n",
              "    }\n",
              "\n",
              "    .dataframe tbody tr th {\n",
              "        vertical-align: top;\n",
              "    }\n",
              "\n",
              "    .dataframe thead th {\n",
              "        text-align: right;\n",
              "    }\n",
              "</style>\n",
              "<table border=\"1\" class=\"dataframe\">\n",
              "  <thead>\n",
              "    <tr style=\"text-align: right;\">\n",
              "      <th></th>\n",
              "      <th>Company</th>\n",
              "      <th>Valuation ($B)</th>\n",
              "      <th>Date Joined</th>\n",
              "      <th>Country</th>\n",
              "      <th>City</th>\n",
              "      <th>Industry</th>\n",
              "      <th>Select Inverstors</th>\n",
              "      <th>Founded Year</th>\n",
              "      <th>Total Raised</th>\n",
              "      <th>Financial Stage</th>\n",
              "      <th>Investors Count</th>\n",
              "      <th>Deal Terms</th>\n",
              "      <th>Portfolio Exits</th>\n",
              "    </tr>\n",
              "  </thead>\n",
              "  <tbody>\n",
              "    <tr>\n",
              "      <th>1032</th>\n",
              "      <td>Timescale</td>\n",
              "      <td>$1</td>\n",
              "      <td>2/22/2022</td>\n",
              "      <td>United States</td>\n",
              "      <td>New York</td>\n",
              "      <td>Internet software &amp; services</td>\n",
              "      <td>New Enterprise Associates, Benchmark, Two Sigm...</td>\n",
              "      <td>2015</td>\n",
              "      <td>$181.06M</td>\n",
              "      <td>None</td>\n",
              "      <td>7</td>\n",
              "      <td>2</td>\n",
              "      <td>None</td>\n",
              "    </tr>\n",
              "    <tr>\n",
              "      <th>1033</th>\n",
              "      <td>Scalapay</td>\n",
              "      <td>$1</td>\n",
              "      <td>2/23/2022</td>\n",
              "      <td>Italy</td>\n",
              "      <td>Milan</td>\n",
              "      <td>Fintech</td>\n",
              "      <td>Fasanara Capital, Tiger Global Management, Bal...</td>\n",
              "      <td>2019</td>\n",
              "      <td>$700M</td>\n",
              "      <td>None</td>\n",
              "      <td>10</td>\n",
              "      <td>2</td>\n",
              "      <td>None</td>\n",
              "    </tr>\n",
              "    <tr>\n",
              "      <th>1034</th>\n",
              "      <td>Omada Health</td>\n",
              "      <td>$1</td>\n",
              "      <td>2/23/2022</td>\n",
              "      <td>United States</td>\n",
              "      <td>San Francisco</td>\n",
              "      <td>Health</td>\n",
              "      <td>U.S. Venture Partners, dRx Capital, Andreessen...</td>\n",
              "      <td>2011</td>\n",
              "      <td>$449.72M</td>\n",
              "      <td>None</td>\n",
              "      <td>30</td>\n",
              "      <td>6</td>\n",
              "      <td>None</td>\n",
              "    </tr>\n",
              "    <tr>\n",
              "      <th>1035</th>\n",
              "      <td>BlueVoyant</td>\n",
              "      <td>$1</td>\n",
              "      <td>2/23/2022</td>\n",
              "      <td>United States</td>\n",
              "      <td>New York</td>\n",
              "      <td>Cybersecurity</td>\n",
              "      <td>8VC, Liberty Strategic Capital, Eden Global Pa...</td>\n",
              "      <td>2017</td>\n",
              "      <td>$525.5M</td>\n",
              "      <td>None</td>\n",
              "      <td>6</td>\n",
              "      <td>2</td>\n",
              "      <td>None</td>\n",
              "    </tr>\n",
              "    <tr>\n",
              "      <th>1036</th>\n",
              "      <td>Veev</td>\n",
              "      <td>$1</td>\n",
              "      <td>2/24/2022</td>\n",
              "      <td>United States</td>\n",
              "      <td>San Mateo</td>\n",
              "      <td>Internet software &amp; services</td>\n",
              "      <td>Zeev Ventures, Bond, Fifth Wall Ventures</td>\n",
              "      <td>2008</td>\n",
              "      <td>$604.5M</td>\n",
              "      <td>None</td>\n",
              "      <td>11</td>\n",
              "      <td>1</td>\n",
              "      <td>None</td>\n",
              "    </tr>\n",
              "  </tbody>\n",
              "</table>\n",
              "</div>\n",
              "      <button class=\"colab-df-convert\" onclick=\"convertToInteractive('df-9e83160d-9d79-48f3-a4c3-8a607d9efc46')\"\n",
              "              title=\"Convert this dataframe to an interactive table.\"\n",
              "              style=\"display:none;\">\n",
              "        \n",
              "  <svg xmlns=\"http://www.w3.org/2000/svg\" height=\"24px\"viewBox=\"0 0 24 24\"\n",
              "       width=\"24px\">\n",
              "    <path d=\"M0 0h24v24H0V0z\" fill=\"none\"/>\n",
              "    <path d=\"M18.56 5.44l.94 2.06.94-2.06 2.06-.94-2.06-.94-.94-2.06-.94 2.06-2.06.94zm-11 1L8.5 8.5l.94-2.06 2.06-.94-2.06-.94L8.5 2.5l-.94 2.06-2.06.94zm10 10l.94 2.06.94-2.06 2.06-.94-2.06-.94-.94-2.06-.94 2.06-2.06.94z\"/><path d=\"M17.41 7.96l-1.37-1.37c-.4-.4-.92-.59-1.43-.59-.52 0-1.04.2-1.43.59L10.3 9.45l-7.72 7.72c-.78.78-.78 2.05 0 2.83L4 21.41c.39.39.9.59 1.41.59.51 0 1.02-.2 1.41-.59l7.78-7.78 2.81-2.81c.8-.78.8-2.07 0-2.86zM5.41 20L4 18.59l7.72-7.72 1.47 1.35L5.41 20z\"/>\n",
              "  </svg>\n",
              "      </button>\n",
              "      \n",
              "  <style>\n",
              "    .colab-df-container {\n",
              "      display:flex;\n",
              "      flex-wrap:wrap;\n",
              "      gap: 12px;\n",
              "    }\n",
              "\n",
              "    .colab-df-convert {\n",
              "      background-color: #E8F0FE;\n",
              "      border: none;\n",
              "      border-radius: 50%;\n",
              "      cursor: pointer;\n",
              "      display: none;\n",
              "      fill: #1967D2;\n",
              "      height: 32px;\n",
              "      padding: 0 0 0 0;\n",
              "      width: 32px;\n",
              "    }\n",
              "\n",
              "    .colab-df-convert:hover {\n",
              "      background-color: #E2EBFA;\n",
              "      box-shadow: 0px 1px 2px rgba(60, 64, 67, 0.3), 0px 1px 3px 1px rgba(60, 64, 67, 0.15);\n",
              "      fill: #174EA6;\n",
              "    }\n",
              "\n",
              "    [theme=dark] .colab-df-convert {\n",
              "      background-color: #3B4455;\n",
              "      fill: #D2E3FC;\n",
              "    }\n",
              "\n",
              "    [theme=dark] .colab-df-convert:hover {\n",
              "      background-color: #434B5C;\n",
              "      box-shadow: 0px 1px 3px 1px rgba(0, 0, 0, 0.15);\n",
              "      filter: drop-shadow(0px 1px 2px rgba(0, 0, 0, 0.3));\n",
              "      fill: #FFFFFF;\n",
              "    }\n",
              "  </style>\n",
              "\n",
              "      <script>\n",
              "        const buttonEl =\n",
              "          document.querySelector('#df-9e83160d-9d79-48f3-a4c3-8a607d9efc46 button.colab-df-convert');\n",
              "        buttonEl.style.display =\n",
              "          google.colab.kernel.accessAllowed ? 'block' : 'none';\n",
              "\n",
              "        async function convertToInteractive(key) {\n",
              "          const element = document.querySelector('#df-9e83160d-9d79-48f3-a4c3-8a607d9efc46');\n",
              "          const dataTable =\n",
              "            await google.colab.kernel.invokeFunction('convertToInteractive',\n",
              "                                                     [key], {});\n",
              "          if (!dataTable) return;\n",
              "\n",
              "          const docLinkHtml = 'Like what you see? Visit the ' +\n",
              "            '<a target=\"_blank\" href=https://colab.research.google.com/notebooks/data_table.ipynb>data table notebook</a>'\n",
              "            + ' to learn more about interactive tables.';\n",
              "          element.innerHTML = '';\n",
              "          dataTable['output_type'] = 'display_data';\n",
              "          await google.colab.output.renderOutput(dataTable, element);\n",
              "          const docLink = document.createElement('div');\n",
              "          docLink.innerHTML = docLinkHtml;\n",
              "          element.appendChild(docLink);\n",
              "        }\n",
              "      </script>\n",
              "    </div>\n",
              "  </div>\n",
              "  "
            ]
          },
          "metadata": {},
          "execution_count": 4
        }
      ]
    },
    {
      "cell_type": "code",
      "source": [
        "df.shape"
      ],
      "metadata": {
        "colab": {
          "base_uri": "https://localhost:8080/"
        },
        "id": "mpx9arsqOD7f",
        "outputId": "953764de-4a4d-4107-ec16-65604d36d7e6"
      },
      "execution_count": 5,
      "outputs": [
        {
          "output_type": "execute_result",
          "data": {
            "text/plain": [
              "(1037, 13)"
            ]
          },
          "metadata": {},
          "execution_count": 5
        }
      ]
    },
    {
      "cell_type": "code",
      "source": [
        "df.columns"
      ],
      "metadata": {
        "colab": {
          "base_uri": "https://localhost:8080/"
        },
        "id": "O566wzMvOGv5",
        "outputId": "61b9bd29-f61f-425c-dbec-0953d1680b29"
      },
      "execution_count": 7,
      "outputs": [
        {
          "output_type": "execute_result",
          "data": {
            "text/plain": [
              "Index(['Company', 'Valuation ($B)', 'Date Joined', 'Country', 'City',\n",
              "       'Industry', 'Select Inverstors', 'Founded Year', 'Total Raised',\n",
              "       'Financial Stage', 'Investors Count', 'Deal Terms', 'Portfolio Exits'],\n",
              "      dtype='object')"
            ]
          },
          "metadata": {},
          "execution_count": 7
        }
      ]
    },
    {
      "cell_type": "code",
      "source": [
        "df.columns.nunique()"
      ],
      "metadata": {
        "colab": {
          "base_uri": "https://localhost:8080/"
        },
        "id": "nHrwoKyxPTV7",
        "outputId": "16aba57a-8566-4a19-a770-be38dc41ad50"
      },
      "execution_count": 18,
      "outputs": [
        {
          "output_type": "execute_result",
          "data": {
            "text/plain": [
              "13"
            ]
          },
          "metadata": {},
          "execution_count": 18
        }
      ]
    },
    {
      "cell_type": "code",
      "source": [
        "df.info()"
      ],
      "metadata": {
        "colab": {
          "base_uri": "https://localhost:8080/"
        },
        "id": "ovE0c115OJm4",
        "outputId": "03b1fefa-5d6d-4f31-a21e-eae02be43301"
      },
      "execution_count": 8,
      "outputs": [
        {
          "output_type": "stream",
          "name": "stdout",
          "text": [
            "<class 'pandas.core.frame.DataFrame'>\n",
            "RangeIndex: 1037 entries, 0 to 1036\n",
            "Data columns (total 13 columns):\n",
            " #   Column             Non-Null Count  Dtype \n",
            "---  ------             --------------  ----- \n",
            " 0   Company            1037 non-null   object\n",
            " 1   Valuation ($B)     1037 non-null   object\n",
            " 2   Date Joined        1037 non-null   object\n",
            " 3   Country            1037 non-null   object\n",
            " 4   City               1037 non-null   object\n",
            " 5   Industry           1037 non-null   object\n",
            " 6   Select Inverstors  1037 non-null   object\n",
            " 7   Founded Year       1037 non-null   object\n",
            " 8   Total Raised       1037 non-null   object\n",
            " 9   Financial Stage    1037 non-null   object\n",
            " 10  Investors Count    1037 non-null   object\n",
            " 11  Deal Terms         1037 non-null   object\n",
            " 12  Portfolio Exits    1037 non-null   object\n",
            "dtypes: object(13)\n",
            "memory usage: 105.4+ KB\n"
          ]
        }
      ]
    },
    {
      "cell_type": "code",
      "source": [
        "df.describe()"
      ],
      "metadata": {
        "colab": {
          "base_uri": "https://localhost:8080/",
          "height": 253
        },
        "id": "KFpE2BjEOQtp",
        "outputId": "4cfc5dc8-38de-47cf-b6b6-94f4e33149d1"
      },
      "execution_count": 9,
      "outputs": [
        {
          "output_type": "execute_result",
          "data": {
            "text/plain": [
              "       Company Valuation ($B) Date Joined        Country           City  \\\n",
              "count     1037           1037        1037           1037           1037   \n",
              "unique    1035            200         623             46            256   \n",
              "top       Bolt             $1   7/13/2021  United States  San Francisco   \n",
              "freq         2            244           9            536            145   \n",
              "\n",
              "       Industry Select Inverstors Founded Year Total Raised Financial Stage  \\\n",
              "count      1037              1037         1037         1037            1037   \n",
              "unique       33              1006           37          914              10   \n",
              "top     Fintech              None         2015         None            None   \n",
              "freq        205                17          144           24             988   \n",
              "\n",
              "       Investors Count Deal Terms Portfolio Exits  \n",
              "count             1037       1037            1037  \n",
              "unique              54         16               5  \n",
              "top                 10          1            None  \n",
              "freq                69        280             988  "
            ],
            "text/html": [
              "\n",
              "  <div id=\"df-fe35f1db-4f49-4616-ada1-ad2c4aa37b91\">\n",
              "    <div class=\"colab-df-container\">\n",
              "      <div>\n",
              "<style scoped>\n",
              "    .dataframe tbody tr th:only-of-type {\n",
              "        vertical-align: middle;\n",
              "    }\n",
              "\n",
              "    .dataframe tbody tr th {\n",
              "        vertical-align: top;\n",
              "    }\n",
              "\n",
              "    .dataframe thead th {\n",
              "        text-align: right;\n",
              "    }\n",
              "</style>\n",
              "<table border=\"1\" class=\"dataframe\">\n",
              "  <thead>\n",
              "    <tr style=\"text-align: right;\">\n",
              "      <th></th>\n",
              "      <th>Company</th>\n",
              "      <th>Valuation ($B)</th>\n",
              "      <th>Date Joined</th>\n",
              "      <th>Country</th>\n",
              "      <th>City</th>\n",
              "      <th>Industry</th>\n",
              "      <th>Select Inverstors</th>\n",
              "      <th>Founded Year</th>\n",
              "      <th>Total Raised</th>\n",
              "      <th>Financial Stage</th>\n",
              "      <th>Investors Count</th>\n",
              "      <th>Deal Terms</th>\n",
              "      <th>Portfolio Exits</th>\n",
              "    </tr>\n",
              "  </thead>\n",
              "  <tbody>\n",
              "    <tr>\n",
              "      <th>count</th>\n",
              "      <td>1037</td>\n",
              "      <td>1037</td>\n",
              "      <td>1037</td>\n",
              "      <td>1037</td>\n",
              "      <td>1037</td>\n",
              "      <td>1037</td>\n",
              "      <td>1037</td>\n",
              "      <td>1037</td>\n",
              "      <td>1037</td>\n",
              "      <td>1037</td>\n",
              "      <td>1037</td>\n",
              "      <td>1037</td>\n",
              "      <td>1037</td>\n",
              "    </tr>\n",
              "    <tr>\n",
              "      <th>unique</th>\n",
              "      <td>1035</td>\n",
              "      <td>200</td>\n",
              "      <td>623</td>\n",
              "      <td>46</td>\n",
              "      <td>256</td>\n",
              "      <td>33</td>\n",
              "      <td>1006</td>\n",
              "      <td>37</td>\n",
              "      <td>914</td>\n",
              "      <td>10</td>\n",
              "      <td>54</td>\n",
              "      <td>16</td>\n",
              "      <td>5</td>\n",
              "    </tr>\n",
              "    <tr>\n",
              "      <th>top</th>\n",
              "      <td>Bolt</td>\n",
              "      <td>$1</td>\n",
              "      <td>7/13/2021</td>\n",
              "      <td>United States</td>\n",
              "      <td>San Francisco</td>\n",
              "      <td>Fintech</td>\n",
              "      <td>None</td>\n",
              "      <td>2015</td>\n",
              "      <td>None</td>\n",
              "      <td>None</td>\n",
              "      <td>10</td>\n",
              "      <td>1</td>\n",
              "      <td>None</td>\n",
              "    </tr>\n",
              "    <tr>\n",
              "      <th>freq</th>\n",
              "      <td>2</td>\n",
              "      <td>244</td>\n",
              "      <td>9</td>\n",
              "      <td>536</td>\n",
              "      <td>145</td>\n",
              "      <td>205</td>\n",
              "      <td>17</td>\n",
              "      <td>144</td>\n",
              "      <td>24</td>\n",
              "      <td>988</td>\n",
              "      <td>69</td>\n",
              "      <td>280</td>\n",
              "      <td>988</td>\n",
              "    </tr>\n",
              "  </tbody>\n",
              "</table>\n",
              "</div>\n",
              "      <button class=\"colab-df-convert\" onclick=\"convertToInteractive('df-fe35f1db-4f49-4616-ada1-ad2c4aa37b91')\"\n",
              "              title=\"Convert this dataframe to an interactive table.\"\n",
              "              style=\"display:none;\">\n",
              "        \n",
              "  <svg xmlns=\"http://www.w3.org/2000/svg\" height=\"24px\"viewBox=\"0 0 24 24\"\n",
              "       width=\"24px\">\n",
              "    <path d=\"M0 0h24v24H0V0z\" fill=\"none\"/>\n",
              "    <path d=\"M18.56 5.44l.94 2.06.94-2.06 2.06-.94-2.06-.94-.94-2.06-.94 2.06-2.06.94zm-11 1L8.5 8.5l.94-2.06 2.06-.94-2.06-.94L8.5 2.5l-.94 2.06-2.06.94zm10 10l.94 2.06.94-2.06 2.06-.94-2.06-.94-.94-2.06-.94 2.06-2.06.94z\"/><path d=\"M17.41 7.96l-1.37-1.37c-.4-.4-.92-.59-1.43-.59-.52 0-1.04.2-1.43.59L10.3 9.45l-7.72 7.72c-.78.78-.78 2.05 0 2.83L4 21.41c.39.39.9.59 1.41.59.51 0 1.02-.2 1.41-.59l7.78-7.78 2.81-2.81c.8-.78.8-2.07 0-2.86zM5.41 20L4 18.59l7.72-7.72 1.47 1.35L5.41 20z\"/>\n",
              "  </svg>\n",
              "      </button>\n",
              "      \n",
              "  <style>\n",
              "    .colab-df-container {\n",
              "      display:flex;\n",
              "      flex-wrap:wrap;\n",
              "      gap: 12px;\n",
              "    }\n",
              "\n",
              "    .colab-df-convert {\n",
              "      background-color: #E8F0FE;\n",
              "      border: none;\n",
              "      border-radius: 50%;\n",
              "      cursor: pointer;\n",
              "      display: none;\n",
              "      fill: #1967D2;\n",
              "      height: 32px;\n",
              "      padding: 0 0 0 0;\n",
              "      width: 32px;\n",
              "    }\n",
              "\n",
              "    .colab-df-convert:hover {\n",
              "      background-color: #E2EBFA;\n",
              "      box-shadow: 0px 1px 2px rgba(60, 64, 67, 0.3), 0px 1px 3px 1px rgba(60, 64, 67, 0.15);\n",
              "      fill: #174EA6;\n",
              "    }\n",
              "\n",
              "    [theme=dark] .colab-df-convert {\n",
              "      background-color: #3B4455;\n",
              "      fill: #D2E3FC;\n",
              "    }\n",
              "\n",
              "    [theme=dark] .colab-df-convert:hover {\n",
              "      background-color: #434B5C;\n",
              "      box-shadow: 0px 1px 3px 1px rgba(0, 0, 0, 0.15);\n",
              "      filter: drop-shadow(0px 1px 2px rgba(0, 0, 0, 0.3));\n",
              "      fill: #FFFFFF;\n",
              "    }\n",
              "  </style>\n",
              "\n",
              "      <script>\n",
              "        const buttonEl =\n",
              "          document.querySelector('#df-fe35f1db-4f49-4616-ada1-ad2c4aa37b91 button.colab-df-convert');\n",
              "        buttonEl.style.display =\n",
              "          google.colab.kernel.accessAllowed ? 'block' : 'none';\n",
              "\n",
              "        async function convertToInteractive(key) {\n",
              "          const element = document.querySelector('#df-fe35f1db-4f49-4616-ada1-ad2c4aa37b91');\n",
              "          const dataTable =\n",
              "            await google.colab.kernel.invokeFunction('convertToInteractive',\n",
              "                                                     [key], {});\n",
              "          if (!dataTable) return;\n",
              "\n",
              "          const docLinkHtml = 'Like what you see? Visit the ' +\n",
              "            '<a target=\"_blank\" href=https://colab.research.google.com/notebooks/data_table.ipynb>data table notebook</a>'\n",
              "            + ' to learn more about interactive tables.';\n",
              "          element.innerHTML = '';\n",
              "          dataTable['output_type'] = 'display_data';\n",
              "          await google.colab.output.renderOutput(dataTable, element);\n",
              "          const docLink = document.createElement('div');\n",
              "          docLink.innerHTML = docLinkHtml;\n",
              "          element.appendChild(docLink);\n",
              "        }\n",
              "      </script>\n",
              "    </div>\n",
              "  </div>\n",
              "  "
            ]
          },
          "metadata": {},
          "execution_count": 9
        }
      ]
    },
    {
      "cell_type": "code",
      "source": [
        "df.sample(5)"
      ],
      "metadata": {
        "colab": {
          "base_uri": "https://localhost:8080/",
          "height": 562
        },
        "id": "UyeSch-xOf3b",
        "outputId": "4d12d483-afdb-4a2e-e3ee-986821fc64e9"
      },
      "execution_count": 11,
      "outputs": [
        {
          "output_type": "execute_result",
          "data": {
            "text/plain": [
              "        Company Valuation ($B) Date Joined        Country           City  \\\n",
              "716     Phantom           $1.2   1/31/2022  United States  San Francisco   \n",
              "954  GrubMarket           $1.2   9/14/2021  United States  San Francisco   \n",
              "650       Lukka           $1.3   1/14/2022  United States       New York   \n",
              "526     Carzone          $1.52    3/1/2019          China        Jiangsu   \n",
              "310  Hozon Auto          $3.95  10/25/2021          China       Shanghai   \n",
              "\n",
              "                            Industry  \\\n",
              "716                          Fintech   \n",
              "954  E-commerce & direct-to-consumer   \n",
              "650                          Fintech   \n",
              "526  E-commerce & direct-to-consumer   \n",
              "310            Auto & transportation   \n",
              "\n",
              "                                     Select Inverstors Founded Year  \\\n",
              "716        Paradigm, Andreessen Horowitz, Jump Capital         2021   \n",
              "954              GGV Capital, BlackRock, ACE & Company         2013   \n",
              "650  Liberty City Ventures, Soros Fund Management, ...         2014   \n",
              "526  Alibaba Group,Co-Stone Venture Capital, Buhuo ...         None   \n",
              "310  HD Capital, Qihoo 360 Technology, China Fortun...         2014   \n",
              "\n",
              "    Total Raised Financial Stage Investors Count Deal Terms Portfolio Exits  \n",
              "716      $118.5M            None               9          1            None  \n",
              "954     $396.06M            None              55          5            None  \n",
              "650      $207.3M            None              13          4            None  \n",
              "526     $946.49M            None              13          1            None  \n",
              "310      $3.146B            None              13          2            None  "
            ],
            "text/html": [
              "\n",
              "  <div id=\"df-41ba3ba0-0e47-4493-9f9c-91bd25ccf939\">\n",
              "    <div class=\"colab-df-container\">\n",
              "      <div>\n",
              "<style scoped>\n",
              "    .dataframe tbody tr th:only-of-type {\n",
              "        vertical-align: middle;\n",
              "    }\n",
              "\n",
              "    .dataframe tbody tr th {\n",
              "        vertical-align: top;\n",
              "    }\n",
              "\n",
              "    .dataframe thead th {\n",
              "        text-align: right;\n",
              "    }\n",
              "</style>\n",
              "<table border=\"1\" class=\"dataframe\">\n",
              "  <thead>\n",
              "    <tr style=\"text-align: right;\">\n",
              "      <th></th>\n",
              "      <th>Company</th>\n",
              "      <th>Valuation ($B)</th>\n",
              "      <th>Date Joined</th>\n",
              "      <th>Country</th>\n",
              "      <th>City</th>\n",
              "      <th>Industry</th>\n",
              "      <th>Select Inverstors</th>\n",
              "      <th>Founded Year</th>\n",
              "      <th>Total Raised</th>\n",
              "      <th>Financial Stage</th>\n",
              "      <th>Investors Count</th>\n",
              "      <th>Deal Terms</th>\n",
              "      <th>Portfolio Exits</th>\n",
              "    </tr>\n",
              "  </thead>\n",
              "  <tbody>\n",
              "    <tr>\n",
              "      <th>716</th>\n",
              "      <td>Phantom</td>\n",
              "      <td>$1.2</td>\n",
              "      <td>1/31/2022</td>\n",
              "      <td>United States</td>\n",
              "      <td>San Francisco</td>\n",
              "      <td>Fintech</td>\n",
              "      <td>Paradigm, Andreessen Horowitz, Jump Capital</td>\n",
              "      <td>2021</td>\n",
              "      <td>$118.5M</td>\n",
              "      <td>None</td>\n",
              "      <td>9</td>\n",
              "      <td>1</td>\n",
              "      <td>None</td>\n",
              "    </tr>\n",
              "    <tr>\n",
              "      <th>954</th>\n",
              "      <td>GrubMarket</td>\n",
              "      <td>$1.2</td>\n",
              "      <td>9/14/2021</td>\n",
              "      <td>United States</td>\n",
              "      <td>San Francisco</td>\n",
              "      <td>E-commerce &amp; direct-to-consumer</td>\n",
              "      <td>GGV Capital, BlackRock, ACE &amp; Company</td>\n",
              "      <td>2013</td>\n",
              "      <td>$396.06M</td>\n",
              "      <td>None</td>\n",
              "      <td>55</td>\n",
              "      <td>5</td>\n",
              "      <td>None</td>\n",
              "    </tr>\n",
              "    <tr>\n",
              "      <th>650</th>\n",
              "      <td>Lukka</td>\n",
              "      <td>$1.3</td>\n",
              "      <td>1/14/2022</td>\n",
              "      <td>United States</td>\n",
              "      <td>New York</td>\n",
              "      <td>Fintech</td>\n",
              "      <td>Liberty City Ventures, Soros Fund Management, ...</td>\n",
              "      <td>2014</td>\n",
              "      <td>$207.3M</td>\n",
              "      <td>None</td>\n",
              "      <td>13</td>\n",
              "      <td>4</td>\n",
              "      <td>None</td>\n",
              "    </tr>\n",
              "    <tr>\n",
              "      <th>526</th>\n",
              "      <td>Carzone</td>\n",
              "      <td>$1.52</td>\n",
              "      <td>3/1/2019</td>\n",
              "      <td>China</td>\n",
              "      <td>Jiangsu</td>\n",
              "      <td>E-commerce &amp; direct-to-consumer</td>\n",
              "      <td>Alibaba Group,Co-Stone Venture Capital, Buhuo ...</td>\n",
              "      <td>None</td>\n",
              "      <td>$946.49M</td>\n",
              "      <td>None</td>\n",
              "      <td>13</td>\n",
              "      <td>1</td>\n",
              "      <td>None</td>\n",
              "    </tr>\n",
              "    <tr>\n",
              "      <th>310</th>\n",
              "      <td>Hozon Auto</td>\n",
              "      <td>$3.95</td>\n",
              "      <td>10/25/2021</td>\n",
              "      <td>China</td>\n",
              "      <td>Shanghai</td>\n",
              "      <td>Auto &amp; transportation</td>\n",
              "      <td>HD Capital, Qihoo 360 Technology, China Fortun...</td>\n",
              "      <td>2014</td>\n",
              "      <td>$3.146B</td>\n",
              "      <td>None</td>\n",
              "      <td>13</td>\n",
              "      <td>2</td>\n",
              "      <td>None</td>\n",
              "    </tr>\n",
              "  </tbody>\n",
              "</table>\n",
              "</div>\n",
              "      <button class=\"colab-df-convert\" onclick=\"convertToInteractive('df-41ba3ba0-0e47-4493-9f9c-91bd25ccf939')\"\n",
              "              title=\"Convert this dataframe to an interactive table.\"\n",
              "              style=\"display:none;\">\n",
              "        \n",
              "  <svg xmlns=\"http://www.w3.org/2000/svg\" height=\"24px\"viewBox=\"0 0 24 24\"\n",
              "       width=\"24px\">\n",
              "    <path d=\"M0 0h24v24H0V0z\" fill=\"none\"/>\n",
              "    <path d=\"M18.56 5.44l.94 2.06.94-2.06 2.06-.94-2.06-.94-.94-2.06-.94 2.06-2.06.94zm-11 1L8.5 8.5l.94-2.06 2.06-.94-2.06-.94L8.5 2.5l-.94 2.06-2.06.94zm10 10l.94 2.06.94-2.06 2.06-.94-2.06-.94-.94-2.06-.94 2.06-2.06.94z\"/><path d=\"M17.41 7.96l-1.37-1.37c-.4-.4-.92-.59-1.43-.59-.52 0-1.04.2-1.43.59L10.3 9.45l-7.72 7.72c-.78.78-.78 2.05 0 2.83L4 21.41c.39.39.9.59 1.41.59.51 0 1.02-.2 1.41-.59l7.78-7.78 2.81-2.81c.8-.78.8-2.07 0-2.86zM5.41 20L4 18.59l7.72-7.72 1.47 1.35L5.41 20z\"/>\n",
              "  </svg>\n",
              "      </button>\n",
              "      \n",
              "  <style>\n",
              "    .colab-df-container {\n",
              "      display:flex;\n",
              "      flex-wrap:wrap;\n",
              "      gap: 12px;\n",
              "    }\n",
              "\n",
              "    .colab-df-convert {\n",
              "      background-color: #E8F0FE;\n",
              "      border: none;\n",
              "      border-radius: 50%;\n",
              "      cursor: pointer;\n",
              "      display: none;\n",
              "      fill: #1967D2;\n",
              "      height: 32px;\n",
              "      padding: 0 0 0 0;\n",
              "      width: 32px;\n",
              "    }\n",
              "\n",
              "    .colab-df-convert:hover {\n",
              "      background-color: #E2EBFA;\n",
              "      box-shadow: 0px 1px 2px rgba(60, 64, 67, 0.3), 0px 1px 3px 1px rgba(60, 64, 67, 0.15);\n",
              "      fill: #174EA6;\n",
              "    }\n",
              "\n",
              "    [theme=dark] .colab-df-convert {\n",
              "      background-color: #3B4455;\n",
              "      fill: #D2E3FC;\n",
              "    }\n",
              "\n",
              "    [theme=dark] .colab-df-convert:hover {\n",
              "      background-color: #434B5C;\n",
              "      box-shadow: 0px 1px 3px 1px rgba(0, 0, 0, 0.15);\n",
              "      filter: drop-shadow(0px 1px 2px rgba(0, 0, 0, 0.3));\n",
              "      fill: #FFFFFF;\n",
              "    }\n",
              "  </style>\n",
              "\n",
              "      <script>\n",
              "        const buttonEl =\n",
              "          document.querySelector('#df-41ba3ba0-0e47-4493-9f9c-91bd25ccf939 button.colab-df-convert');\n",
              "        buttonEl.style.display =\n",
              "          google.colab.kernel.accessAllowed ? 'block' : 'none';\n",
              "\n",
              "        async function convertToInteractive(key) {\n",
              "          const element = document.querySelector('#df-41ba3ba0-0e47-4493-9f9c-91bd25ccf939');\n",
              "          const dataTable =\n",
              "            await google.colab.kernel.invokeFunction('convertToInteractive',\n",
              "                                                     [key], {});\n",
              "          if (!dataTable) return;\n",
              "\n",
              "          const docLinkHtml = 'Like what you see? Visit the ' +\n",
              "            '<a target=\"_blank\" href=https://colab.research.google.com/notebooks/data_table.ipynb>data table notebook</a>'\n",
              "            + ' to learn more about interactive tables.';\n",
              "          element.innerHTML = '';\n",
              "          dataTable['output_type'] = 'display_data';\n",
              "          await google.colab.output.renderOutput(dataTable, element);\n",
              "          const docLink = document.createElement('div');\n",
              "          docLink.innerHTML = docLinkHtml;\n",
              "          element.appendChild(docLink);\n",
              "        }\n",
              "      </script>\n",
              "    </div>\n",
              "  </div>\n",
              "  "
            ]
          },
          "metadata": {},
          "execution_count": 11
        }
      ]
    },
    {
      "cell_type": "code",
      "source": [
        "# checking missing value\n",
        "df.isna().sum()"
      ],
      "metadata": {
        "colab": {
          "base_uri": "https://localhost:8080/"
        },
        "id": "zuXLJwAXOnoS",
        "outputId": "6f631375-9c04-4bbf-d901-13cbb8cc4f6a"
      },
      "execution_count": 14,
      "outputs": [
        {
          "output_type": "execute_result",
          "data": {
            "text/plain": [
              "Company              0\n",
              "Valuation ($B)       0\n",
              "Date Joined          0\n",
              "Country              0\n",
              "City                 0\n",
              "Industry             0\n",
              "Select Inverstors    0\n",
              "Founded Year         0\n",
              "Total Raised         0\n",
              "Financial Stage      0\n",
              "Investors Count      0\n",
              "Deal Terms           0\n",
              "Portfolio Exits      0\n",
              "dtype: int64"
            ]
          },
          "metadata": {},
          "execution_count": 14
        }
      ]
    },
    {
      "cell_type": "code",
      "source": [
        "# checking duplicate values\n",
        "df.duplicated().sum()"
      ],
      "metadata": {
        "colab": {
          "base_uri": "https://localhost:8080/"
        },
        "id": "RYVlzhHxOue8",
        "outputId": "5f314be1-8248-41da-b964-425168a86c39"
      },
      "execution_count": 15,
      "outputs": [
        {
          "output_type": "execute_result",
          "data": {
            "text/plain": [
              "0"
            ]
          },
          "metadata": {},
          "execution_count": 15
        }
      ]
    },
    {
      "cell_type": "markdown",
      "source": [
        "# Insights\n",
        "- There are 13 columns(features)\n",
        "- categorical columns[Company, Country, CIty, Industry, Financial Stage, Portfolio Exits\n",
        "- numerical columns[\tValuation, Total Raised\t, Investors Count\t]\n",
        "- missing values = 0\n",
        "- duplicate values = 0\n",
        "- null values = 0\n"
      ],
      "metadata": {
        "id": "uvlSbAFmPNIK"
      }
    },
    {
      "cell_type": "code",
      "source": [
        "df.nunique()"
      ],
      "metadata": {
        "colab": {
          "base_uri": "https://localhost:8080/"
        },
        "id": "c7mr2cP8O39u",
        "outputId": "715d83ae-c4d2-4264-c6f8-3ebe62c1b083"
      },
      "execution_count": 23,
      "outputs": [
        {
          "output_type": "execute_result",
          "data": {
            "text/plain": [
              "Company              1035\n",
              "Valuation ($B)        200\n",
              "Date Joined           623\n",
              "Country                46\n",
              "City                  256\n",
              "Industry               33\n",
              "Select Inverstors    1006\n",
              "Founded Year           37\n",
              "Total Raised          914\n",
              "Financial Stage        10\n",
              "Investors Count        54\n",
              "Deal Terms             16\n",
              "Portfolio Exits         5\n",
              "dtype: int64"
            ]
          },
          "metadata": {},
          "execution_count": 23
        }
      ]
    },
    {
      "cell_type": "code",
      "source": [
        "df.nunique().plot(kind='bar')"
      ],
      "metadata": {
        "colab": {
          "base_uri": "https://localhost:8080/",
          "height": 356
        },
        "id": "m28fu3faQKO0",
        "outputId": "e7d5495c-0b6e-4327-9d68-c2cbd3d744ee"
      },
      "execution_count": 24,
      "outputs": [
        {
          "output_type": "execute_result",
          "data": {
            "text/plain": [
              "<matplotlib.axes._subplots.AxesSubplot at 0x7f4232978a30>"
            ]
          },
          "metadata": {},
          "execution_count": 24
        },
        {
          "output_type": "display_data",
          "data": {
            "text/plain": [
              "<Figure size 432x288 with 1 Axes>"
            ],
            "image/png": "[encoded data removed]"
          },
          "metadata": {
            "needs_background": "light"
          }
        }
      ]
    },
    {
      "cell_type": "markdown",
      "source": [
        "# # EDA on Country column"
      ],
      "metadata": {
        "id": "hBwYK92ilMcf"
      }
    },
    {
      "cell_type": "code",
      "source": [
        "df['Country'].unique()"
      ],
      "metadata": {
        "colab": {
          "base_uri": "https://localhost:8080/"
        },
        "id": "YIgEgu18lYlV",
        "outputId": "88960015-8edb-4ec4-b180-9f91a3ce3e40"
      },
      "execution_count": 29,
      "outputs": [
        {
          "output_type": "execute_result",
          "data": {
            "text/plain": [
              "array(['China', 'United States', 'Sweden', 'Australia', 'United Kingdom',\n",
              "       'Bahamas', 'India', 'Indonesia', 'Germany', 'Hong Kong', 'Mexico',\n",
              "       'Estonia', 'Canada', 'Turkey', 'South Korea', 'Netherlands',\n",
              "       'Israel', 'France', 'Finland', 'Colombia', 'Belgium', 'Brazil',\n",
              "       'Denmark', 'Lithuania', 'Austria', 'Ireland', 'Singapore',\n",
              "       'Vietnam', 'United Arab Emirates', 'Switzerland', 'Argentina',\n",
              "       'Spain', 'Japan', 'Luxembourg', 'Nigeria', 'Philippines',\n",
              "       'Senegal', 'Malaysia', 'Bermuda', 'Norway', 'South Africa',\n",
              "       'Chile', 'Thailand', 'Czech Republic', 'Croatia', 'Italy'],\n",
              "      dtype=object)"
            ]
          },
          "metadata": {},
          "execution_count": 29
        }
      ]
    },
    {
      "cell_type": "code",
      "source": [
        "df['Country'].nunique()"
      ],
      "metadata": {
        "colab": {
          "base_uri": "https://localhost:8080/"
        },
        "id": "eseGoyr1Qtle",
        "outputId": "ce070dd0-2a48-4b18-c90c-f47a044de355"
      },
      "execution_count": 27,
      "outputs": [
        {
          "output_type": "execute_result",
          "data": {
            "text/plain": [
              "46"
            ]
          },
          "metadata": {},
          "execution_count": 27
        }
      ]
    },
    {
      "cell_type": "code",
      "source": [
        "df['Country'].value_counts()"
      ],
      "metadata": {
        "colab": {
          "base_uri": "https://localhost:8080/"
        },
        "id": "e2JNERpClQCg",
        "outputId": "de6a3ba9-bce1-4e56-82d5-cffd8e57321b"
      },
      "execution_count": 30,
      "outputs": [
        {
          "output_type": "execute_result",
          "data": {
            "text/plain": [
              "United States           536\n",
              "China                   168\n",
              "India                    63\n",
              "United Kingdom           42\n",
              "France                   24\n",
              "Germany                  24\n",
              "Israel                   20\n",
              "Canada                   19\n",
              "Brazil                   16\n",
              "South Korea              12\n",
              "Singapore                12\n",
              "Indonesia                 7\n",
              "Sweden                    6\n",
              "Netherlands               6\n",
              "Mexico                    6\n",
              "Australia                 6\n",
              "Hong Kong                 6\n",
              "Japan                     6\n",
              "Ireland                   5\n",
              "Switzerland               5\n",
              "Norway                    4\n",
              "Belgium                   3\n",
              "Spain                     3\n",
              "Finland                   3\n",
              "Turkey                    3\n",
              "United Arab Emirates      3\n",
              "South Africa              2\n",
              "Philippines               2\n",
              "Chile                     2\n",
              "Thailand                  2\n",
              "Estonia                   2\n",
              "Denmark                   2\n",
              "Vietnam                   2\n",
              "Austria                   2\n",
              "Colombia                  2\n",
              "Czech Republic            1\n",
              "Croatia                   1\n",
              "Bermuda                   1\n",
              "Lithuania                 1\n",
              "Malaysia                  1\n",
              "Senegal                   1\n",
              "Nigeria                   1\n",
              "Luxembourg                1\n",
              "Argentina                 1\n",
              "Bahamas                   1\n",
              "Italy                     1\n",
              "Name: Country, dtype: int64"
            ]
          },
          "metadata": {},
          "execution_count": 30
        }
      ]
    },
    {
      "cell_type": "code",
      "source": [
        "plt.figure(figsize=(15,7))\n",
        "sns.countplot(data=df, x=df['Country'], palette='hls')\n",
        "plt.xticks(rotation=90)\n",
        "plt.show()"
      ],
      "metadata": {
        "colab": {
          "base_uri": "https://localhost:8080/",
          "height": 539
        },
        "id": "aUCXlZQjljj0",
        "outputId": "f1697a4d-498b-4fb7-8843-363d12f309cf"
      },
      "execution_count": 50,
      "outputs": [
        {
          "output_type": "display_data",
          "data": {
            "text/plain": [
              "<Figure size 1080x504 with 1 Axes>"
            ],
            "image/png": "[encoded data removed]"
          },
          "metadata": {
            "needs_background": "light"
          }
        }
      ]
    },
    {
      "cell_type": "markdown",
      "source": [
        "# EDA with City column"
      ],
      "metadata": {
        "id": "LYPD6YFLoJhW"
      }
    },
    {
      "cell_type": "code",
      "source": [
        "df['City'].unique()"
      ],
      "metadata": {
        "colab": {
          "base_uri": "https://localhost:8080/"
        },
        "id": "j6h7h_mhmJ3w",
        "outputId": "c4fd7c57-e20d-41cd-ce22-55eb87ea8bb7"
      },
      "execution_count": 35,
      "outputs": [
        {
          "output_type": "execute_result",
          "data": {
            "text/plain": [
              "array(['Beijing', 'Hawthorne', 'San Francisco', 'Stockholm', 'Cary',\n",
              "       'Surry Hills', 'London', 'Fintech', 'Jacksonville', 'Bengaluru',\n",
              "       'Shanghai', 'Jakarta', 'Shenzhen', 'Philadelphia', 'New York',\n",
              "       'Waltham', 'San Diego', 'Roseville', 'Munich', 'Luohe',\n",
              "       'Cheung Sha Wan', 'Walpole', 'Boston', 'Glendale', 'Berlin',\n",
              "       'Kirkland', 'Gurugram', 'Lerma de Villada', 'Mountain View',\n",
              "       'Tallinn', 'San Jose', 'San Mateo', 'Chicago', 'Changsha',\n",
              "       'Mumbai', 'Irving', 'Vancouver', 'Istanbul', 'Santa Clara',\n",
              "       'Seoul', 'Pittsburgh', 'Palo Alto', 'Hangzhou', 'Toronto',\n",
              "       'Amsterdam', 'Los Angeles', 'Tel Aviv', 'Noida', 'Hoboken',\n",
              "       'Brooklyn', 'Paris', 'Helsinki', 'Oakland', 'Fremont', 'Bogota',\n",
              "       'Brussels', 'Atlanta', 'Campinas', 'Sao Paulo', 'Melbourne',\n",
              "       'Gurgaon', 'Bellevue', 'Montreal', 'Copenhagen', 'Irvine',\n",
              "       'Burlingame', 'Zhuhai', 'Vilnius', 'Seattle', 'Guangzhou',\n",
              "       'Eden Prairie', 'Inglewood', 'Sunnyvale', 'Vienna', 'Redwood City',\n",
              "       'El Segundo', 'Mississauga', 'Dublin', 'Columbus', 'Carlsbad',\n",
              "       'Los Altos', 'San Carlos', 'Chengdu', 'Detroit', 'Denver', 'Bend',\n",
              "       'Culver City', 'Carson City', 'Duderstadt',\n",
              "       'Mobile & telecommunications', 'San Ramon', 'Walnut', 'Miami',\n",
              "       'Englewood Cliffs', 'Wuhan', 'Alameda', 'Sacramento', 'Houston',\n",
              "       'Peterborough', 'Kitchener', 'Jersey City', 'Cambridge',\n",
              "       'South Jordan', 'Ho Chi Minh City', 'Westerville', 'Lehi',\n",
              "       'Austin', 'New Delhi', 'Chatham', 'South San Francisco', 'Bristol',\n",
              "       'Scottsdale', 'Dallas', 'Raleigh',\n",
              "       'E-commerce & direct-to-consumer', 'Louisville', 'Dubai',\n",
              "       'Nanjing', 'Schaffhausen', 'Faridabad', 'Thane', 'Burlington',\n",
              "       'McLean', 'Buenos Aires', 'Changzhou', 'Foster City', 'Madrid',\n",
              "       'Santa Monica', 'Louvain-la-Neuve', 'Unterfoehring', 'Mexico City',\n",
              "       'Colchester', 'Pune', 'Kowloon', 'Tokyo', 'Somerville',\n",
              "       \"Giv'atayim\", 'Leudelange', 'Goleta', 'Lagos', 'Pennsauken',\n",
              "       'Artificial intelligence', 'Plantation', 'Portola Valley',\n",
              "       'Taguig City', 'Netanya', 'Croix', 'Bethesda', 'Bangalore',\n",
              "       'Jerusalem', 'Portland', 'Dakar', 'Hanover', 'Selangor', 'Norfolk',\n",
              "       'Chongqing', 'Hamilton', 'Burnaby', 'Sydney', 'Lysaker', 'Hayward',\n",
              "       'Bryanston', 'Hunan', 'Jiangsu', 'Northbrook', 'Boulder',\n",
              "       'Santa Barbara', 'Santiago', 'Richmond', 'Draper', 'Cincinnati',\n",
              "       'Zephyr Cove', 'Altrincham', 'Marina del Rey', 'Bangkok',\n",
              "       'Nashville', 'Curitiba', 'Herzliya', 'Hefei', 'Solihull', 'Ghent',\n",
              "       'Chennai', 'Ambler', 'Pleasanton', 'La Plaine Saint-Denis',\n",
              "       'Central', 'Framingham', 'Tirat Carmel', 'Encinitas', 'Barcelona',\n",
              "       'Long Beach', 'Berkeley', 'Sherman Oaks', 'Boise', 'Aberdeen',\n",
              "       'Tsuruoka', 'Washington', 'Prague', 'Oslo', 'Princeton', 'Jaipur',\n",
              "       'Salt Lake City', 'Washington DC', 'Tustin', 'Qingdao', 'Roubaix',\n",
              "       'Islandia', 'Prilly', 'Maharashtra', 'Andheri', 'Waterloo',\n",
              "       'Crewe', 'Seongnam-Si', 'Fort Mill', 'Lausanne', 'Boca Raton',\n",
              "       'Midrand', 'Manila', 'Espoo', 'Wuxi', 'Tianjin', 'Charlotte',\n",
              "       'Osasco', 'Menlo Park', 'Evry', 'Guiyang', 'Leawood', 'Zurich',\n",
              "       'Dongguan', 'Vodnjan', 'Jeju-do', 'Englewood', 'Colorado Springs',\n",
              "       'Parana', \"Ra'anana\", 'Wilmington', 'Ramat Gan',\n",
              "       'Internet software & services', 'Suzhou', 'Madison', 'Cedar Park',\n",
              "       'Berkeley Heights', 'Aarhus', 'Lincoln', 'Brisbane', 'Arlington',\n",
              "       'Supply chain, logistics, & delivery', 'Montpellier', 'Bellingham',\n",
              "       'Herndon', 'Tampa', 'Alexandria', 'Ottawa', 'Petah Tikva',\n",
              "       'Hyderabad', 'Milan'], dtype=object)"
            ]
          },
          "metadata": {},
          "execution_count": 35
        }
      ]
    },
    {
      "cell_type": "code",
      "source": [
        "df['City'].nunique()"
      ],
      "metadata": {
        "colab": {
          "base_uri": "https://localhost:8080/"
        },
        "id": "CKK2-yTsoOEZ",
        "outputId": "baac1ab8-722c-4552-82f9-01fce8af8f05"
      },
      "execution_count": 36,
      "outputs": [
        {
          "output_type": "execute_result",
          "data": {
            "text/plain": [
              "256"
            ]
          },
          "metadata": {},
          "execution_count": 36
        }
      ]
    },
    {
      "cell_type": "code",
      "source": [
        "df['City'].value_counts()"
      ],
      "metadata": {
        "colab": {
          "base_uri": "https://localhost:8080/"
        },
        "id": "IR4eafVeoQuM",
        "outputId": "77455422-0485-4229-c557-0cbc7d3c2425"
      },
      "execution_count": 37,
      "outputs": [
        {
          "output_type": "execute_result",
          "data": {
            "text/plain": [
              "San Francisco     145\n",
              "New York           96\n",
              "Beijing            63\n",
              "Shanghai           43\n",
              "London             33\n",
              "                 ... \n",
              "Lagos               1\n",
              "Pennsauken          1\n",
              "Plantation          1\n",
              "Portola Valley      1\n",
              "Milan               1\n",
              "Name: City, Length: 256, dtype: int64"
            ]
          },
          "metadata": {},
          "execution_count": 37
        }
      ]
    },
    {
      "cell_type": "code",
      "source": [
        "df1 = df['City'].value_counts()\n",
        "df1"
      ],
      "metadata": {
        "colab": {
          "base_uri": "https://localhost:8080/"
        },
        "id": "kEBh7GEKoTdd",
        "outputId": "ba8a4f7c-7be3-4a98-9007-ebea8da4bf0b"
      },
      "execution_count": 38,
      "outputs": [
        {
          "output_type": "execute_result",
          "data": {
            "text/plain": [
              "San Francisco     145\n",
              "New York           96\n",
              "Beijing            63\n",
              "Shanghai           43\n",
              "London             33\n",
              "                 ... \n",
              "Lagos               1\n",
              "Pennsauken          1\n",
              "Plantation          1\n",
              "Portola Valley      1\n",
              "Milan               1\n",
              "Name: City, Length: 256, dtype: int64"
            ]
          },
          "metadata": {},
          "execution_count": 38
        }
      ]
    },
    {
      "cell_type": "code",
      "source": [
        "# converts Series to DataFrame \n",
        "df1 = df1.to_frame().reset_index()\n",
        "df1"
      ],
      "metadata": {
        "colab": {
          "base_uri": "https://localhost:8080/",
          "height": 423
        },
        "id": "fvGOAF3Eom04",
        "outputId": "9f55f9ce-edc0-4198-94d2-a589fc8bd795"
      },
      "execution_count": 40,
      "outputs": [
        {
          "output_type": "execute_result",
          "data": {
            "text/plain": [
              "              index  City\n",
              "0     San Francisco   145\n",
              "1          New York    96\n",
              "2           Beijing    63\n",
              "3          Shanghai    43\n",
              "4            London    33\n",
              "..              ...   ...\n",
              "251           Lagos     1\n",
              "252      Pennsauken     1\n",
              "253      Plantation     1\n",
              "254  Portola Valley     1\n",
              "255           Milan     1\n",
              "\n",
              "[256 rows x 2 columns]"
            ],
            "text/html": [
              "\n",
              "  <div id=\"df-d88fbb7d-8d75-4cae-b9c2-d51bd7b2b4a1\">\n",
              "    <div class=\"colab-df-container\">\n",
              "      <div>\n",
              "<style scoped>\n",
              "    .dataframe tbody tr th:only-of-type {\n",
              "        vertical-align: middle;\n",
              "    }\n",
              "\n",
              "    .dataframe tbody tr th {\n",
              "        vertical-align: top;\n",
              "    }\n",
              "\n",
              "    .dataframe thead th {\n",
              "        text-align: right;\n",
              "    }\n",
              "</style>\n",
              "<table border=\"1\" class=\"dataframe\">\n",
              "  <thead>\n",
              "    <tr style=\"text-align: right;\">\n",
              "      <th></th>\n",
              "      <th>index</th>\n",
              "      <th>City</th>\n",
              "    </tr>\n",
              "  </thead>\n",
              "  <tbody>\n",
              "    <tr>\n",
              "      <th>0</th>\n",
              "      <td>San Francisco</td>\n",
              "      <td>145</td>\n",
              "    </tr>\n",
              "    <tr>\n",
              "      <th>1</th>\n",
              "      <td>New York</td>\n",
              "      <td>96</td>\n",
              "    </tr>\n",
              "    <tr>\n",
              "      <th>2</th>\n",
              "      <td>Beijing</td>\n",
              "      <td>63</td>\n",
              "    </tr>\n",
              "    <tr>\n",
              "      <th>3</th>\n",
              "      <td>Shanghai</td>\n",
              "      <td>43</td>\n",
              "    </tr>\n",
              "    <tr>\n",
              "      <th>4</th>\n",
              "      <td>London</td>\n",
              "      <td>33</td>\n",
              "    </tr>\n",
              "    <tr>\n",
              "      <th>...</th>\n",
              "      <td>...</td>\n",
              "      <td>...</td>\n",
              "    </tr>\n",
              "    <tr>\n",
              "      <th>251</th>\n",
              "      <td>Lagos</td>\n",
              "      <td>1</td>\n",
              "    </tr>\n",
              "    <tr>\n",
              "      <th>252</th>\n",
              "      <td>Pennsauken</td>\n",
              "      <td>1</td>\n",
              "    </tr>\n",
              "    <tr>\n",
              "      <th>253</th>\n",
              "      <td>Plantation</td>\n",
              "      <td>1</td>\n",
              "    </tr>\n",
              "    <tr>\n",
              "      <th>254</th>\n",
              "      <td>Portola Valley</td>\n",
              "      <td>1</td>\n",
              "    </tr>\n",
              "    <tr>\n",
              "      <th>255</th>\n",
              "      <td>Milan</td>\n",
              "      <td>1</td>\n",
              "    </tr>\n",
              "  </tbody>\n",
              "</table>\n",
              "<p>256 rows × 2 columns</p>\n",
              "</div>\n",
              "      <button class=\"colab-df-convert\" onclick=\"convertToInteractive('df-d88fbb7d-8d75-4cae-b9c2-d51bd7b2b4a1')\"\n",
              "              title=\"Convert this dataframe to an interactive table.\"\n",
              "              style=\"display:none;\">\n",
              "        \n",
              "  <svg xmlns=\"http://www.w3.org/2000/svg\" height=\"24px\"viewBox=\"0 0 24 24\"\n",
              "       width=\"24px\">\n",
              "    <path d=\"M0 0h24v24H0V0z\" fill=\"none\"/>\n",
              "    <path d=\"M18.56 5.44l.94 2.06.94-2.06 2.06-.94-2.06-.94-.94-2.06-.94 2.06-2.06.94zm-11 1L8.5 8.5l.94-2.06 2.06-.94-2.06-.94L8.5 2.5l-.94 2.06-2.06.94zm10 10l.94 2.06.94-2.06 2.06-.94-2.06-.94-.94-2.06-.94 2.06-2.06.94z\"/><path d=\"M17.41 7.96l-1.37-1.37c-.4-.4-.92-.59-1.43-.59-.52 0-1.04.2-1.43.59L10.3 9.45l-7.72 7.72c-.78.78-.78 2.05 0 2.83L4 21.41c.39.39.9.59 1.41.59.51 0 1.02-.2 1.41-.59l7.78-7.78 2.81-2.81c.8-.78.8-2.07 0-2.86zM5.41 20L4 18.59l7.72-7.72 1.47 1.35L5.41 20z\"/>\n",
              "  </svg>\n",
              "      </button>\n",
              "      \n",
              "  <style>\n",
              "    .colab-df-container {\n",
              "      display:flex;\n",
              "      flex-wrap:wrap;\n",
              "      gap: 12px;\n",
              "    }\n",
              "\n",
              "    .colab-df-convert {\n",
              "      background-color: #E8F0FE;\n",
              "      border: none;\n",
              "      border-radius: 50%;\n",
              "      cursor: pointer;\n",
              "      display: none;\n",
              "      fill: #1967D2;\n",
              "      height: 32px;\n",
              "      padding: 0 0 0 0;\n",
              "      width: 32px;\n",
              "    }\n",
              "\n",
              "    .colab-df-convert:hover {\n",
              "      background-color: #E2EBFA;\n",
              "      box-shadow: 0px 1px 2px rgba(60, 64, 67, 0.3), 0px 1px 3px 1px rgba(60, 64, 67, 0.15);\n",
              "      fill: #174EA6;\n",
              "    }\n",
              "\n",
              "    [theme=dark] .colab-df-convert {\n",
              "      background-color: #3B4455;\n",
              "      fill: #D2E3FC;\n",
              "    }\n",
              "\n",
              "    [theme=dark] .colab-df-convert:hover {\n",
              "      background-color: #434B5C;\n",
              "      box-shadow: 0px 1px 3px 1px rgba(0, 0, 0, 0.15);\n",
              "      filter: drop-shadow(0px 1px 2px rgba(0, 0, 0, 0.3));\n",
              "      fill: #FFFFFF;\n",
              "    }\n",
              "  </style>\n",
              "\n",
              "      <script>\n",
              "        const buttonEl =\n",
              "          document.querySelector('#df-d88fbb7d-8d75-4cae-b9c2-d51bd7b2b4a1 button.colab-df-convert');\n",
              "        buttonEl.style.display =\n",
              "          google.colab.kernel.accessAllowed ? 'block' : 'none';\n",
              "\n",
              "        async function convertToInteractive(key) {\n",
              "          const element = document.querySelector('#df-d88fbb7d-8d75-4cae-b9c2-d51bd7b2b4a1');\n",
              "          const dataTable =\n",
              "            await google.colab.kernel.invokeFunction('convertToInteractive',\n",
              "                                                     [key], {});\n",
              "          if (!dataTable) return;\n",
              "\n",
              "          const docLinkHtml = 'Like what you see? Visit the ' +\n",
              "            '<a target=\"_blank\" href=https://colab.research.google.com/notebooks/data_table.ipynb>data table notebook</a>'\n",
              "            + ' to learn more about interactive tables.';\n",
              "          element.innerHTML = '';\n",
              "          dataTable['output_type'] = 'display_data';\n",
              "          await google.colab.output.renderOutput(dataTable, element);\n",
              "          const docLink = document.createElement('div');\n",
              "          docLink.innerHTML = docLinkHtml;\n",
              "          element.appendChild(docLink);\n",
              "        }\n",
              "      </script>\n",
              "    </div>\n",
              "  </div>\n",
              "  "
            ]
          },
          "metadata": {},
          "execution_count": 40
        }
      ]
    },
    {
      "cell_type": "code",
      "source": [
        "df1 = df1.rename(columns={'index':'City', 'City':'Count'})\n",
        "df1"
      ],
      "metadata": {
        "colab": {
          "base_uri": "https://localhost:8080/",
          "height": 423
        },
        "id": "9BdeCUJ4otEP",
        "outputId": "8757caf8-4d7a-4dba-e115-c10e7e485524"
      },
      "execution_count": 43,
      "outputs": [
        {
          "output_type": "execute_result",
          "data": {
            "text/plain": [
              "               City  Count\n",
              "0     San Francisco    145\n",
              "1          New York     96\n",
              "2           Beijing     63\n",
              "3          Shanghai     43\n",
              "4            London     33\n",
              "..              ...    ...\n",
              "251           Lagos      1\n",
              "252      Pennsauken      1\n",
              "253      Plantation      1\n",
              "254  Portola Valley      1\n",
              "255           Milan      1\n",
              "\n",
              "[256 rows x 2 columns]"
            ],
            "text/html": [
              "\n",
              "  <div id=\"df-778af99a-c608-40ac-b8c1-d4b6debd93d5\">\n",
              "    <div class=\"colab-df-container\">\n",
              "      <div>\n",
              "<style scoped>\n",
              "    .dataframe tbody tr th:only-of-type {\n",
              "        vertical-align: middle;\n",
              "    }\n",
              "\n",
              "    .dataframe tbody tr th {\n",
              "        vertical-align: top;\n",
              "    }\n",
              "\n",
              "    .dataframe thead th {\n",
              "        text-align: right;\n",
              "    }\n",
              "</style>\n",
              "<table border=\"1\" class=\"dataframe\">\n",
              "  <thead>\n",
              "    <tr style=\"text-align: right;\">\n",
              "      <th></th>\n",
              "      <th>City</th>\n",
              "      <th>Count</th>\n",
              "    </tr>\n",
              "  </thead>\n",
              "  <tbody>\n",
              "    <tr>\n",
              "      <th>0</th>\n",
              "      <td>San Francisco</td>\n",
              "      <td>145</td>\n",
              "    </tr>\n",
              "    <tr>\n",
              "      <th>1</th>\n",
              "      <td>New York</td>\n",
              "      <td>96</td>\n",
              "    </tr>\n",
              "    <tr>\n",
              "      <th>2</th>\n",
              "      <td>Beijing</td>\n",
              "      <td>63</td>\n",
              "    </tr>\n",
              "    <tr>\n",
              "      <th>3</th>\n",
              "      <td>Shanghai</td>\n",
              "      <td>43</td>\n",
              "    </tr>\n",
              "    <tr>\n",
              "      <th>4</th>\n",
              "      <td>London</td>\n",
              "      <td>33</td>\n",
              "    </tr>\n",
              "    <tr>\n",
              "      <th>...</th>\n",
              "      <td>...</td>\n",
              "      <td>...</td>\n",
              "    </tr>\n",
              "    <tr>\n",
              "      <th>251</th>\n",
              "      <td>Lagos</td>\n",
              "      <td>1</td>\n",
              "    </tr>\n",
              "    <tr>\n",
              "      <th>252</th>\n",
              "      <td>Pennsauken</td>\n",
              "      <td>1</td>\n",
              "    </tr>\n",
              "    <tr>\n",
              "      <th>253</th>\n",
              "      <td>Plantation</td>\n",
              "      <td>1</td>\n",
              "    </tr>\n",
              "    <tr>\n",
              "      <th>254</th>\n",
              "      <td>Portola Valley</td>\n",
              "      <td>1</td>\n",
              "    </tr>\n",
              "    <tr>\n",
              "      <th>255</th>\n",
              "      <td>Milan</td>\n",
              "      <td>1</td>\n",
              "    </tr>\n",
              "  </tbody>\n",
              "</table>\n",
              "<p>256 rows × 2 columns</p>\n",
              "</div>\n",
              "      <button class=\"colab-df-convert\" onclick=\"convertToInteractive('df-778af99a-c608-40ac-b8c1-d4b6debd93d5')\"\n",
              "              title=\"Convert this dataframe to an interactive table.\"\n",
              "              style=\"display:none;\">\n",
              "        \n",
              "  <svg xmlns=\"http://www.w3.org/2000/svg\" height=\"24px\"viewBox=\"0 0 24 24\"\n",
              "       width=\"24px\">\n",
              "    <path d=\"M0 0h24v24H0V0z\" fill=\"none\"/>\n",
              "    <path d=\"M18.56 5.44l.94 2.06.94-2.06 2.06-.94-2.06-.94-.94-2.06-.94 2.06-2.06.94zm-11 1L8.5 8.5l.94-2.06 2.06-.94-2.06-.94L8.5 2.5l-.94 2.06-2.06.94zm10 10l.94 2.06.94-2.06 2.06-.94-2.06-.94-.94-2.06-.94 2.06-2.06.94z\"/><path d=\"M17.41 7.96l-1.37-1.37c-.4-.4-.92-.59-1.43-.59-.52 0-1.04.2-1.43.59L10.3 9.45l-7.72 7.72c-.78.78-.78 2.05 0 2.83L4 21.41c.39.39.9.59 1.41.59.51 0 1.02-.2 1.41-.59l7.78-7.78 2.81-2.81c.8-.78.8-2.07 0-2.86zM5.41 20L4 18.59l7.72-7.72 1.47 1.35L5.41 20z\"/>\n",
              "  </svg>\n",
              "      </button>\n",
              "      \n",
              "  <style>\n",
              "    .colab-df-container {\n",
              "      display:flex;\n",
              "      flex-wrap:wrap;\n",
              "      gap: 12px;\n",
              "    }\n",
              "\n",
              "    .colab-df-convert {\n",
              "      background-color: #E8F0FE;\n",
              "      border: none;\n",
              "      border-radius: 50%;\n",
              "      cursor: pointer;\n",
              "      display: none;\n",
              "      fill: #1967D2;\n",
              "      height: 32px;\n",
              "      padding: 0 0 0 0;\n",
              "      width: 32px;\n",
              "    }\n",
              "\n",
              "    .colab-df-convert:hover {\n",
              "      background-color: #E2EBFA;\n",
              "      box-shadow: 0px 1px 2px rgba(60, 64, 67, 0.3), 0px 1px 3px 1px rgba(60, 64, 67, 0.15);\n",
              "      fill: #174EA6;\n",
              "    }\n",
              "\n",
              "    [theme=dark] .colab-df-convert {\n",
              "      background-color: #3B4455;\n",
              "      fill: #D2E3FC;\n",
              "    }\n",
              "\n",
              "    [theme=dark] .colab-df-convert:hover {\n",
              "      background-color: #434B5C;\n",
              "      box-shadow: 0px 1px 3px 1px rgba(0, 0, 0, 0.15);\n",
              "      filter: drop-shadow(0px 1px 2px rgba(0, 0, 0, 0.3));\n",
              "      fill: #FFFFFF;\n",
              "    }\n",
              "  </style>\n",
              "\n",
              "      <script>\n",
              "        const buttonEl =\n",
              "          document.querySelector('#df-778af99a-c608-40ac-b8c1-d4b6debd93d5 button.colab-df-convert');\n",
              "        buttonEl.style.display =\n",
              "          google.colab.kernel.accessAllowed ? 'block' : 'none';\n",
              "\n",
              "        async function convertToInteractive(key) {\n",
              "          const element = document.querySelector('#df-778af99a-c608-40ac-b8c1-d4b6debd93d5');\n",
              "          const dataTable =\n",
              "            await google.colab.kernel.invokeFunction('convertToInteractive',\n",
              "                                                     [key], {});\n",
              "          if (!dataTable) return;\n",
              "\n",
              "          const docLinkHtml = 'Like what you see? Visit the ' +\n",
              "            '<a target=\"_blank\" href=https://colab.research.google.com/notebooks/data_table.ipynb>data table notebook</a>'\n",
              "            + ' to learn more about interactive tables.';\n",
              "          element.innerHTML = '';\n",
              "          dataTable['output_type'] = 'display_data';\n",
              "          await google.colab.output.renderOutput(dataTable, element);\n",
              "          const docLink = document.createElement('div');\n",
              "          docLink.innerHTML = docLinkHtml;\n",
              "          element.appendChild(docLink);\n",
              "        }\n",
              "      </script>\n",
              "    </div>\n",
              "  </div>\n",
              "  "
            ]
          },
          "metadata": {},
          "execution_count": 43
        }
      ]
    },
    {
      "cell_type": "code",
      "source": [
        "plt.figure(figsize=(15,6))\n",
        "sns.barplot(data=df1, x=df1['City'].head(20), y=df1['Count'], palette = 'hls')\n",
        "plt.xticks(rotation = 90)\n",
        "plt.show()\n"
      ],
      "metadata": {
        "colab": {
          "base_uri": "https://localhost:8080/",
          "height": 452
        },
        "id": "LEZElID2pc9b",
        "outputId": "0b5b3f17-3538-4440-fc34-77a66a7f43ab"
      },
      "execution_count": 57,
      "outputs": [
        {
          "output_type": "display_data",
          "data": {
            "text/plain": [
              "<Figure size 1080x432 with 1 Axes>"
            ],
            "image/png": "[encoded data removed]"
          },
          "metadata": {
            "needs_background": "light"
          }
        }
      ]
    },
    {
      "cell_type": "code",
      "source": [],
      "metadata": {
        "id": "EoleRkPYq5Rf"
      },
      "execution_count": null,
      "outputs": []
    }
  ]
}